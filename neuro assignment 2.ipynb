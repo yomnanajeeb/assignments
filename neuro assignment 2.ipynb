{
 "cells": [
  {
   "cell_type": "code",
   "execution_count": 6,
   "id": "50e654c8-2f4b-41d0-a152-94eee1b07be3",
   "metadata": {},
   "outputs": [],
   "source": [
    "def sigmoid(x):\n",
    "    return 1 / (1 + (2.718281828459045 ** -x))  \n",
    "\n",
    "def sigmoid_derivative(x):\n",
    "    return x * (1 - x)"
   ]
  },
  {
   "cell_type": "code",
   "execution_count": 8,
   "id": "ae2c4700-3a48-49f1-8c28-8b60395c6eed",
   "metadata": {},
   "outputs": [],
   "source": [
    "i1 = 0.05\n",
    "i2 = 0.10\n",
    "\n",
    "w1 = 0.15\n",
    "w2 = 0.20\n",
    "w3 = 0.25\n",
    "w4 = 0.30\n",
    "\n",
    "w5 = 0.40\n",
    "w6 = 0.45\n",
    "w7 = 0.50\n",
    "w8 = 0.55\n",
    "\n",
    "b1 = 0.35\n",
    "b2 = 0.60\n",
    "\n",
    "target_o1 = 0.01\n",
    "target_o2 = 0.99"
   ]
  },
  {
   "cell_type": "code",
   "execution_count": 10,
   "id": "6e3f9161-7d71-4618-af6c-629e031caaf7",
   "metadata": {},
   "outputs": [],
   "source": [
    "h1_input = (i1 * w1) + (i2 * w2) + b1\n",
    "h2_input = (i1 * w3) + (i2 * w4) + b1\n",
    "\n",
    "h1_output = sigmoid(h1_input)\n",
    "h2_output = sigmoid(h2_input)\n",
    "\n",
    "o1_input = (h1_output * w5) + (h2_output * w7) + b2\n",
    "o2_input = (h1_output * w6) + (h2_output * w8) + b2\n",
    "\n",
    "o1_output = sigmoid(o1_input)\n",
    "o2_output = sigmoid(o2_input)"
   ]
  },
  {
   "cell_type": "code",
   "execution_count": 12,
   "id": "c34919fc-283e-4cfb-94bc-a9e695f495dd",
   "metadata": {},
   "outputs": [],
   "source": [
    "error_o1 = target_o1 - o1_output\n",
    "error_o2 = target_o2 - o2_output\n",
    "loss = 0.5 * ((error_o1 ** 2) + (error_o2 ** 2))\n",
    "\n",
    "\n",
    "o1_error = o1_output - target_o1\n",
    "o2_error = o2_output - target_o2\n",
    "\n",
    "o1_delta = o1_error * sigmoid_derivative(o1_output)\n",
    "o2_delta = o2_error * sigmoid_derivative(o2_output)\n",
    "\n",
    "h1_error = (o1_delta * w5) + (o2_delta * w6)\n",
    "h2_error = (o1_delta * w7) + (o2_delta * w8)\n",
    "\n",
    "h1_delta = h1_error * sigmoid_derivative(h1_output)\n",
    "h2_delta = h2_error * sigmoid_derivative(h2_output)\n",
    "\n",
    "learning_rate = 0.1\n",
    "\n",
    "w5 -= learning_rate * (h1_output * o1_delta)\n",
    "w6 -= learning_rate * (h2_output * o1_delta)\n",
    "w7 -= learning_rate * (h1_output * o2_delta)\n",
    "w8 -= learning_rate * (h2_output * o2_delta)\n",
    "\n",
    "w1 -= learning_rate * (i1 * h1_delta)\n",
    "w2 -= learning_rate * (i2 * h1_delta)\n",
    "w3 -= learning_rate * (i1 * h2_delta)\n",
    "w4 -= learning_rate * (i2 * h2_delta)\n",
    "\n",
    "b1 -= learning_rate * (h1_delta + h2_delta)\n",
    "b2 -= learning_rate * (o1_delta + o2_delta)"
   ]
  },
  {
   "cell_type": "code",
   "execution_count": 14,
   "id": "1e405d88-e159-4ff4-a9a0-b908a9171976",
   "metadata": {},
   "outputs": [
    {
     "name": "stdout",
     "output_type": "stream",
     "text": [
      "Final Output after Forward Propagation:\n",
      "Output O1: 0.7568985138058796\n",
      "Output O2: 0.7676801170808158\n",
      "\n",
      "Error (Loss): 0.3036417601333157\n",
      "\n",
      "Updated Weights:\n",
      "w1: 0.1499552024035199, w2: 0.1999104048070398, w3: 0.2499435662267927, w4: 0.2998871324535854\n",
      "w5: 0.39184659071267297, w6: 0.4417969175958518, w7: 0.5023523251928427, w8: 0.5523666562928755\n",
      "\n",
      "Updated Biases:\n",
      "b1: 0.34797537260625205, b2: 0.5902218481102002\n"
     ]
    }
   ],
   "source": [
    "print(\"Final Output after Forward Propagation:\")\n",
    "print(f\"Output O1: {o1_output}\")\n",
    "print(f\"Output O2: {o2_output}\")\n",
    "\n",
    "print(\"\\nError (Loss):\", loss)\n",
    "\n",
    "print(\"\\nUpdated Weights:\")\n",
    "print(f\"w1: {w1}, w2: {w2}, w3: {w3}, w4: {w4}\")\n",
    "print(f\"w5: {w5}, w6: {w6}, w7: {w7}, w8: {w8}\")\n",
    "\n",
    "print(\"\\nUpdated Biases:\")\n",
    "print(f\"b1: {b1}, b2: {b2}\")\n"
   ]
  },
  {
   "cell_type": "code",
   "execution_count": 4,
   "id": "9dad3ae9-fa84-4b95-9c93-3200f1bca078",
   "metadata": {},
   "outputs": [
    {
     "name": "stdout",
     "output_type": "stream",
     "text": [
      "Final Output after Forward Propagation: [0.75693192 0.76771788]\n",
      "Error: 0.303658313630144\n",
      "Updated Weights for Input to Hidden Layer: [[0.14995524 0.19994354]\n",
      " [0.24991048 0.29988707]]\n",
      "Updated Weights for Hidden to Output Layer: [[0.39183041 0.45235644]\n",
      " [0.49180558 0.5523636 ]]\n"
     ]
    }
   ],
   "source": [
    "import numpy as np\n",
    "\n",
    "# تعريف دالة السيغمويد (sigmoid) ومشتقتها (sigmoid derivative)\n",
    "def sigmoid(x):\n",
    "    return 1 / (1 + np.exp(-x))\n",
    "\n",
    "def sigmoid_derivative(x):\n",
    "    return x * (1 - x)\n",
    "\n",
    "# المدخلات\n",
    "inputs = np.array([0.05, 0.10])\n",
    "\n",
    "# الأوزان\n",
    "weights_input_hidden = np.array([[0.15, 0.20], [0.25, 0.30]])\n",
    "weights_hidden_output = np.array([[0.40, 0.45], [0.50, 0.55]])\n",
    "\n",
    "# التعويضات\n",
    "bias_hidden = np.array([0.35, 0.35])\n",
    "bias_output = np.array([0.60, 0.60])\n",
    "\n",
    "# المخرجات المستهدفة\n",
    "targets = np.array([0.01, 0.99])\n",
    "\n",
    "# الحساب الأمامي (Forward Propagation)\n",
    "# حساب المدخلات للطبقة المخفية\n",
    "hidden_input = np.dot(inputs, weights_input_hidden) + bias_hidden\n",
    "hidden_output = sigmoid(hidden_input)\n",
    "\n",
    "# حساب المدخلات للطبقة المخرجة\n",
    "final_input = np.dot(hidden_output, weights_hidden_output) + bias_output\n",
    "final_output = sigmoid(final_input)\n",
    "\n",
    "# حساب الخطأ (Loss)\n",
    "error = 0.5 * np.sum((targets - final_output) ** 2)\n",
    "\n",
    "# Backpropagation\n",
    "# حساب التدرج بالنسبة للطبقة المخرجة\n",
    "output_error = final_output - targets\n",
    "output_delta = output_error * sigmoid_derivative(final_output)\n",
    "\n",
    "# حساب التدرج بالنسبة للطبقة المخفية\n",
    "hidden_error = np.dot(output_delta, weights_hidden_output.T)\n",
    "hidden_delta = hidden_error * sigmoid_derivative(hidden_output)\n",
    "\n",
    "# حساب التدرجات للأوزان\n",
    "weights_input_hidden_gradient = np.outer(inputs, hidden_delta)\n",
    "weights_hidden_output_gradient = np.outer(hidden_output, output_delta)\n",
    "\n",
    "# تحديث الأوزان (باستخدام خوارزمية التدرج النزولي)\n",
    "learning_rate = 0.1\n",
    "\n",
    "weights_input_hidden -= learning_rate * weights_input_hidden_gradient\n",
    "weights_hidden_output -= learning_rate * weights_hidden_output_gradient\n",
    "\n",
    "# عرض النتائج\n",
    "print(\"Final Output after Forward Propagation:\", final_output)\n",
    "print(\"Error:\", error)\n",
    "print(\"Updated Weights for Input to Hidden Layer:\", weights_input_hidden)\n",
    "print(\"Updated Weights for Hidden to Output Layer:\", weights_hidden_output)\n"
   ]
  },
  {
   "cell_type": "code",
   "execution_count": null,
   "id": "1d6aa8bb-053e-4523-a2df-a7bfa19de9a6",
   "metadata": {},
   "outputs": [],
   "source": []
  }
 ],
 "metadata": {
  "kernelspec": {
   "display_name": "Python [conda env:base] *",
   "language": "python",
   "name": "conda-base-py"
  },
  "language_info": {
   "codemirror_mode": {
    "name": "ipython",
    "version": 3
   },
   "file_extension": ".py",
   "mimetype": "text/x-python",
   "name": "python",
   "nbconvert_exporter": "python",
   "pygments_lexer": "ipython3",
   "version": "3.12.7"
  }
 },
 "nbformat": 4,
 "nbformat_minor": 5
}
