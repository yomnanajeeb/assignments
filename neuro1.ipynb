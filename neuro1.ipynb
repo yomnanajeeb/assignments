{
 "cells": [
  {
   "cell_type": "code",
   "execution_count": 18,
   "id": "42c6de82-f954-43bb-bf3f-9d9672b05be7",
   "metadata": {},
   "outputs": [
    {
     "name": "stdout",
     "output_type": "stream",
     "text": [
      "Random Weights: [[0.13942679845788375, -0.47498924477733306], [-0.22497068163088074, -0.27678926185117725], [0.2364712141640124, 0.1766994874229113], [0.3921795677048454, -0.41306116737058385]]\n",
      "Hidden Layer Outputs: h1=0.4296541178928961, h2=0.4309579574770268\n",
      "Output Layer Outputs: o1=0.7052907842487732, o2=0.5982964162717463\n"
     ]
    }
   ],
   "source": [
    "import random\n",
    "\n",
    "def tanh(x):\n",
    "    return (2 / (1 + pow(2.718281828459045, -2 * x))) - 1  \n",
    "\n",
    "def dot_product(X, W):\n",
    "    return sum(x * w for x, w in zip(X, W))\n",
    "\n",
    "def forward_propagation(X, W1, W2, b1, b2):\n",
    "    z1 = [dot_product(X, W1[0]) + b1, dot_product(X, W1[1]) + b1]\n",
    "    h_output = [tanh(z) for z in z1]\n",
    "    \n",
    "    z2 = [dot_product(h_output, W2[0]) + b2, dot_product(h_output, W2[1]) + b2]\n",
    "    o_output = [tanh(z) for z in z2]\n",
    "    \n",
    "    return h_output, o_output\n",
    "\n",
    "random.seed(42)  \n",
    "W1 = [[random.uniform(-0.5, 0.5) for _ in range(2)] for _ in range(2)]\n",
    "W2 = [[random.uniform(-0.5, 0.5) for _ in range(2)] for _ in range(2)]\n",
    "\n",
    "b1 = 0.5\n",
    "b2 = 0.7\n",
    "\n",
    "i1, i2 = 0.05, 0.10\n",
    "X = [i1, i2]\n",
    "\n",
    "h_output, o_output = forward_propagation(X, W1, W2, b1, b2)\n",
    "\n",
    "print(f\"Random Weights: {W1 + W2}\")\n",
    "print(f\"Hidden Layer Outputs: h1={h_output[0]}, h2={h_output[1]}\")\n",
    "print(f\"Output Layer Outputs: o1={o_output[0]}, o2={o_output[1]}\")\n"
   ]
  },
  {
   "cell_type": "code",
   "execution_count": null,
   "id": "34ca887b-2eeb-4c73-b70f-f099656a30aa",
   "metadata": {},
   "outputs": [],
   "source": []
  }
 ],
 "metadata": {
  "kernelspec": {
   "display_name": "Python [conda env:base] *",
   "language": "python",
   "name": "conda-base-py"
  },
  "language_info": {
   "codemirror_mode": {
    "name": "ipython",
    "version": 3
   },
   "file_extension": ".py",
   "mimetype": "text/x-python",
   "name": "python",
   "nbconvert_exporter": "python",
   "pygments_lexer": "ipython3",
   "version": "3.12.7"
  }
 },
 "nbformat": 4,
 "nbformat_minor": 5
}
