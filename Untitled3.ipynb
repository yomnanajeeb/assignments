{
 "cells": [
  {
   "cell_type": "code",
   "execution_count": 8,
   "id": "3ff6fb0b-8130-47e9-9551-35c737a2f09a",
   "metadata": {},
   "outputs": [
    {
     "name": "stdout",
     "output_type": "stream",
     "text": [
      "w1: 0.15, w2: 0.2, w3: 0.25, w4: 0.3, w5: 0.4, w6: 0.45, w7: 0.5, w8: 0.55\n",
      "Hidden Layer Outputs: h1 = 0.3648766043861295 , h2 = 0.37136022787650763\n",
      "Output Layer Outputs: o1 = 0.7313533020508975 , o2 = 0.748019100588152\n"
     ]
    }
   ],
   "source": [
    "import numpy as np\n",
    "def tanh(x):\n",
    "    return np.tanh(x)\n",
    "i1, i2 = 0.05, 0.10\n",
    "b1, b2 = 0.35, 0.60\n",
    "\n",
    "w1, w2, w3, w4 = 0.15, 0.20, 0.25, 0.30\n",
    "w5, w6, w7, w8 = 0.40, 0.45, 0.50, 0.55\n",
    "\n",
    "h1_input = i1 * w1 + i2 * w3 + b1\n",
    "h2_input = i1 * w2 + i2 * w4 + b1\n",
    "h1_output = tanh(h1_input)\n",
    "h2_output = tanh(h2_input)\n",
    "\n",
    "o1_input = h1_output * w5 + h2_output * w7 + b2\n",
    "o2_input = h1_output * w6 + h2_output * w8 + b2\n",
    "o1_output = tanh(o1_input)\n",
    "o2_output = tanh(o2_input)\n",
    "\n",
    "print(f\"w1: {w1}, w2: {w2}, w3: {w3}, w4: {w4}, w5: {w5}, w6: {w6}, w7: {w7}, w8: {w8}\")\n",
    "print(\"Hidden Layer Outputs: h1 =\", h1_output, \", h2 =\", h2_output)\n",
    "print(\"Output Layer Outputs: o1 =\", o1_output, \", o2 =\", o2_output)\n",
    "\n"
   ]
  },
  {
   "cell_type": "code",
   "execution_count": null,
   "id": "664f80f9-c777-4ece-9613-e747a632d5f2",
   "metadata": {},
   "outputs": [],
   "source": []
  }
 ],
 "metadata": {
  "kernelspec": {
   "display_name": "Python [conda env:base] *",
   "language": "python",
   "name": "conda-base-py"
  },
  "language_info": {
   "codemirror_mode": {
    "name": "ipython",
    "version": 3
   },
   "file_extension": ".py",
   "mimetype": "text/x-python",
   "name": "python",
   "nbconvert_exporter": "python",
   "pygments_lexer": "ipython3",
   "version": "3.12.7"
  }
 },
 "nbformat": 4,
 "nbformat_minor": 5
}
